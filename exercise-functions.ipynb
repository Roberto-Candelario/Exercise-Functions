{
 "cells": [
  {
   "cell_type": "markdown",
   "id": "1a8a2bdc",
   "metadata": {
    "papermill": {
     "duration": 0.006323,
     "end_time": "2022-07-25T05:46:39.107847",
     "exception": false,
     "start_time": "2022-07-25T05:46:39.101524",
     "status": "completed"
    },
    "tags": []
   },
   "source": [
    "**This notebook is an exercise in the [Intro to Programming](https://www.kaggle.com/learn/intro-to-programming) course.  You can reference the tutorial at [this link](https://www.kaggle.com/alexisbcook/functions).**\n",
    "\n",
    "---\n"
   ]
  },
  {
   "cell_type": "markdown",
   "id": "4d99e660",
   "metadata": {
    "papermill": {
     "duration": 0.004391,
     "end_time": "2022-07-25T05:46:39.117233",
     "exception": false,
     "start_time": "2022-07-25T05:46:39.112842",
     "status": "completed"
    },
    "tags": []
   },
   "source": [
    "In the tutorial, you learned about functions. In this exercise, you'll write some of your own!\n",
    "\n",
    "# Set up the notebook\n",
    "\n",
    "Run the next code cell without changes to set up the notebook."
   ]
  },
  {
   "cell_type": "code",
   "execution_count": 1,
   "id": "9d8db5ed",
   "metadata": {
    "execution": {
     "iopub.execute_input": "2022-07-25T05:46:39.129649Z",
     "iopub.status.busy": "2022-07-25T05:46:39.128617Z",
     "iopub.status.idle": "2022-07-25T05:46:39.182784Z",
     "shell.execute_reply": "2022-07-25T05:46:39.181477Z"
    },
    "papermill": {
     "duration": 0.064076,
     "end_time": "2022-07-25T05:46:39.186009",
     "exception": false,
     "start_time": "2022-07-25T05:46:39.121933",
     "status": "completed"
    },
    "tags": []
   },
   "outputs": [
    {
     "name": "stdout",
     "output_type": "stream",
     "text": [
      "Setup complete.\n"
     ]
    }
   ],
   "source": [
    "# Set up the exercise\n",
    "import math\n",
    "from learntools.core import binder\n",
    "binder.bind(globals())\n",
    "from learntools.intro_to_programming.ex2 import *\n",
    "print('Setup complete.')"
   ]
  },
  {
   "cell_type": "markdown",
   "id": "4e5576af",
   "metadata": {
    "papermill": {
     "duration": 0.004727,
     "end_time": "2022-07-25T05:46:39.196587",
     "exception": false,
     "start_time": "2022-07-25T05:46:39.191860",
     "status": "completed"
    },
    "tags": []
   },
   "source": [
    "# Question 1\n",
    "\n",
    "In the [House Prices - Advanced Regression Techniques competition](https://www.kaggle.com/c/house-prices-advanced-regression-techniques/overview), you need to use information like the number of bedrooms and bathrooms to predict the price of a house.  Inspired by this competition, you'll write your own function to do this.\n",
    "\n",
    "In the next code cell, create a function `get_expected_cost()` that has two arguments:\n",
    "- `beds` - number of bedrooms \n",
    "- `baths` - number of bathrooms\n",
    "\n",
    "It should return the expected cost of a house with that number of bedrooms and bathrooms.  Assume that:\n",
    "- the expected cost for a house with 0 bedrooms and 0 bathrooms is `80000`.  \n",
    "- each bedroom adds `30000` to the expected cost\n",
    "- each bathroom adds `10000` to the expected cost.\n",
    "\n",
    "For instance, \n",
    "- a house with 1 bedroom and 1 bathroom has an expected cost of `120000`, and \n",
    "- a house with 2 bedrooms and 1 bathroom has an expected cost of `150000`."
   ]
  },
  {
   "cell_type": "code",
   "execution_count": 2,
   "id": "d2962fbc",
   "metadata": {
    "execution": {
     "iopub.execute_input": "2022-07-25T05:46:39.208566Z",
     "iopub.status.busy": "2022-07-25T05:46:39.207789Z",
     "iopub.status.idle": "2022-07-25T05:46:39.218762Z",
     "shell.execute_reply": "2022-07-25T05:46:39.217687Z"
    },
    "papermill": {
     "duration": 0.019394,
     "end_time": "2022-07-25T05:46:39.220916",
     "exception": false,
     "start_time": "2022-07-25T05:46:39.201522",
     "status": "completed"
    },
    "tags": []
   },
   "outputs": [
    {
     "data": {
      "application/javascript": [
       "parent.postMessage({\"jupyterEvent\": \"custom.exercise_interaction\", \"data\": {\"outcomeType\": 1, \"valueTowardsCompletion\": 0.2, \"interactionType\": 1, \"questionType\": 2, \"questionId\": \"1_GetExpectedCost\", \"learnToolsVersion\": \"0.3.4\", \"failureMessage\": \"\", \"exceptionClass\": \"\", \"trace\": \"\"}}, \"*\")"
      ],
      "text/plain": [
       "<IPython.core.display.Javascript object>"
      ]
     },
     "metadata": {},
     "output_type": "display_data"
    },
    {
     "data": {
      "text/markdown": [
       "<span style=\"color:#33cc33\">Correct</span>"
      ],
      "text/plain": [
       "Correct"
      ]
     },
     "metadata": {},
     "output_type": "display_data"
    }
   ],
   "source": [
    "# TODO: Complete the function\n",
    "def get_expected_cost(beds, baths):\n",
    "    value = 80000 + (beds * 30000) + (baths * 10000)\n",
    "    return value\n",
    "\n",
    "# Check your answer \n",
    "q1.check()"
   ]
  },
  {
   "cell_type": "code",
   "execution_count": 3,
   "id": "352c1060",
   "metadata": {
    "execution": {
     "iopub.execute_input": "2022-07-25T05:46:39.233087Z",
     "iopub.status.busy": "2022-07-25T05:46:39.232363Z",
     "iopub.status.idle": "2022-07-25T05:46:39.237063Z",
     "shell.execute_reply": "2022-07-25T05:46:39.236220Z"
    },
    "papermill": {
     "duration": 0.013062,
     "end_time": "2022-07-25T05:46:39.239025",
     "exception": false,
     "start_time": "2022-07-25T05:46:39.225963",
     "status": "completed"
    },
    "tags": []
   },
   "outputs": [],
   "source": [
    "# Uncomment to see a hint\n",
    "#q1.hint()\n",
    "\n",
    "# Uncomment to view the solution\n",
    "#q1.solution()"
   ]
  },
  {
   "cell_type": "markdown",
   "id": "7bebfdea",
   "metadata": {
    "papermill": {
     "duration": 0.004798,
     "end_time": "2022-07-25T05:46:39.249409",
     "exception": false,
     "start_time": "2022-07-25T05:46:39.244611",
     "status": "completed"
    },
    "tags": []
   },
   "source": [
    "# Question 2\n",
    "\n",
    "You are thinking about buying a home and want to get an idea of how much you will spend, based on the number of bedrooms and bathrooms.  You are trying to decide between four different options:\n",
    "- Option 1: house with two bedrooms and three bathrooms\n",
    "- Option 2: house with three bedrooms and two bathrooms\n",
    "- Option 3: house with three bedrooms and three bathrooms\n",
    "- Option 4: house with three bedrooms and four bathrooms\n",
    "\n",
    "Use the `get_expected_cost()` function you defined in question 1 to set `option_1`, `option_2`, `option_3`, and `option_4` to the expected cost of each option."
   ]
  },
  {
   "cell_type": "code",
   "execution_count": 4,
   "id": "f0df6ad1",
   "metadata": {
    "execution": {
     "iopub.execute_input": "2022-07-25T05:46:39.261568Z",
     "iopub.status.busy": "2022-07-25T05:46:39.260888Z",
     "iopub.status.idle": "2022-07-25T05:46:39.272766Z",
     "shell.execute_reply": "2022-07-25T05:46:39.271624Z"
    },
    "papermill": {
     "duration": 0.020312,
     "end_time": "2022-07-25T05:46:39.274837",
     "exception": false,
     "start_time": "2022-07-25T05:46:39.254525",
     "status": "completed"
    },
    "tags": []
   },
   "outputs": [
    {
     "name": "stdout",
     "output_type": "stream",
     "text": [
      "170000\n",
      "190000\n",
      "200000\n",
      "210000\n"
     ]
    },
    {
     "data": {
      "application/javascript": [
       "parent.postMessage({\"jupyterEvent\": \"custom.exercise_interaction\", \"data\": {\"outcomeType\": 1, \"valueTowardsCompletion\": 0.2, \"interactionType\": 1, \"questionType\": 1, \"questionId\": \"2_RunGetExpectedCost\", \"learnToolsVersion\": \"0.3.4\", \"failureMessage\": \"\", \"exceptionClass\": \"\", \"trace\": \"\"}}, \"*\")"
      ],
      "text/plain": [
       "<IPython.core.display.Javascript object>"
      ]
     },
     "metadata": {},
     "output_type": "display_data"
    },
    {
     "data": {
      "text/markdown": [
       "<span style=\"color:#33cc33\">Correct</span>"
      ],
      "text/plain": [
       "Correct"
      ]
     },
     "metadata": {},
     "output_type": "display_data"
    }
   ],
   "source": [
    "# TODO: Use the get_expected_cost function to fill in each value\n",
    "option_one = get_expected_cost(2, 3)\n",
    "option_two = get_expected_cost(3, 2)\n",
    "option_three = get_expected_cost(3, 3)\n",
    "option_four = get_expected_cost(3, 4)\n",
    "\n",
    "print(option_one)\n",
    "print(option_two)\n",
    "print(option_three)\n",
    "print(option_four)\n",
    "\n",
    "# Check your answer\n",
    "q2.check()"
   ]
  },
  {
   "cell_type": "code",
   "execution_count": 5,
   "id": "18f04071",
   "metadata": {
    "execution": {
     "iopub.execute_input": "2022-07-25T05:46:39.288017Z",
     "iopub.status.busy": "2022-07-25T05:46:39.286975Z",
     "iopub.status.idle": "2022-07-25T05:46:39.291784Z",
     "shell.execute_reply": "2022-07-25T05:46:39.290658Z"
    },
    "papermill": {
     "duration": 0.013749,
     "end_time": "2022-07-25T05:46:39.294042",
     "exception": false,
     "start_time": "2022-07-25T05:46:39.280293",
     "status": "completed"
    },
    "tags": []
   },
   "outputs": [],
   "source": [
    "# Uncomment to see a hint\n",
    "#q2.hint()\n",
    "\n",
    "# Uncomment to view the solution\n",
    "#q2.solution()"
   ]
  },
  {
   "cell_type": "markdown",
   "id": "a1d7bc77",
   "metadata": {
    "papermill": {
     "duration": 0.005061,
     "end_time": "2022-07-25T05:46:39.304723",
     "exception": false,
     "start_time": "2022-07-25T05:46:39.299662",
     "status": "completed"
    },
    "tags": []
   },
   "source": [
    "# Question 3\n",
    "\n",
    "You're a home decorator, and you'd like to use Python to streamline some of your work.  Specifically, you're creating a tool that you intend to use to calculate the cost of painting a room.\n",
    "\n",
    "As a first step, define a function `get_cost()` that takes as input:\n",
    "- `sqft_walls` = total square feet of walls to be painted\n",
    "- `sqft_ceiling` = square feet of ceiling to be painted\n",
    "- `sqft_per_gallon` = number of square feet that you can cover with one gallon of paint\n",
    "- `cost_per_gallon` = cost (in dollars) of one gallon of paint\n",
    "\n",
    "It should return the cost (in dollars) of putting one coat of paint on all walls and the ceiling.  Assume you can buy the exact amount of paint that you need, so you can buy partial gallons (e.g., if you need 7.523 gallons, you can buy that exact amount, instead of needing to buy 8 gallons and waste some paint).  Do not round your answer."
   ]
  },
  {
   "cell_type": "code",
   "execution_count": 6,
   "id": "9deb7dc2",
   "metadata": {
    "execution": {
     "iopub.execute_input": "2022-07-25T05:46:39.317072Z",
     "iopub.status.busy": "2022-07-25T05:46:39.316690Z",
     "iopub.status.idle": "2022-07-25T05:46:39.325248Z",
     "shell.execute_reply": "2022-07-25T05:46:39.323911Z"
    },
    "papermill": {
     "duration": 0.017616,
     "end_time": "2022-07-25T05:46:39.327674",
     "exception": false,
     "start_time": "2022-07-25T05:46:39.310058",
     "status": "completed"
    },
    "tags": []
   },
   "outputs": [
    {
     "data": {
      "application/javascript": [
       "parent.postMessage({\"jupyterEvent\": \"custom.exercise_interaction\", \"data\": {\"outcomeType\": 1, \"valueTowardsCompletion\": 0.2, \"interactionType\": 1, \"questionType\": 2, \"questionId\": \"3_GetCostPaint\", \"learnToolsVersion\": \"0.3.4\", \"failureMessage\": \"\", \"exceptionClass\": \"\", \"trace\": \"\"}}, \"*\")"
      ],
      "text/plain": [
       "<IPython.core.display.Javascript object>"
      ]
     },
     "metadata": {},
     "output_type": "display_data"
    },
    {
     "data": {
      "text/markdown": [
       "<span style=\"color:#33cc33\">Correct</span>"
      ],
      "text/plain": [
       "Correct"
      ]
     },
     "metadata": {},
     "output_type": "display_data"
    }
   ],
   "source": [
    "# TODO: Finish defining the function\n",
    "def get_cost(sqft_walls, sqft_ceiling, sqft_per_gallon, cost_per_gallon):\n",
    "    sqft = sqft_walls + sqft_ceiling\n",
    "    gallons_needed = sqft / sqft_per_gallon\n",
    "    cost = cost_per_gallon * gallons_needed\n",
    "    return cost\n",
    "\n",
    "# Check your answer\n",
    "q3.check()"
   ]
  },
  {
   "cell_type": "code",
   "execution_count": 7,
   "id": "2c4aabf8",
   "metadata": {
    "execution": {
     "iopub.execute_input": "2022-07-25T05:46:39.340755Z",
     "iopub.status.busy": "2022-07-25T05:46:39.340284Z",
     "iopub.status.idle": "2022-07-25T05:46:39.344774Z",
     "shell.execute_reply": "2022-07-25T05:46:39.343652Z"
    },
    "papermill": {
     "duration": 0.013676,
     "end_time": "2022-07-25T05:46:39.347082",
     "exception": false,
     "start_time": "2022-07-25T05:46:39.333406",
     "status": "completed"
    },
    "tags": []
   },
   "outputs": [],
   "source": [
    "# Uncomment to see a hint\n",
    "#q3.solution()"
   ]
  },
  {
   "cell_type": "markdown",
   "id": "c343f79f",
   "metadata": {
    "papermill": {
     "duration": 0.005297,
     "end_time": "2022-07-25T05:46:39.358128",
     "exception": false,
     "start_time": "2022-07-25T05:46:39.352831",
     "status": "completed"
    },
    "tags": []
   },
   "source": [
    "# Question 4\n",
    "\n",
    "Use the `get_cost()` function you defined in Question 3 to calculate the cost of applying one coat of paint to a room with:\n",
    "- 432 square feet of walls, and\n",
    "- 144 square feet of ceiling.\n",
    "\n",
    "Assume that one gallon of paint covers 400 square feet and costs $15.  As in Question 3, assume you can buy partial gallons of paint.  Do not round your answer."
   ]
  },
  {
   "cell_type": "code",
   "execution_count": 8,
   "id": "dd23cbff",
   "metadata": {
    "execution": {
     "iopub.execute_input": "2022-07-25T05:46:39.371918Z",
     "iopub.status.busy": "2022-07-25T05:46:39.371260Z",
     "iopub.status.idle": "2022-07-25T05:46:39.380048Z",
     "shell.execute_reply": "2022-07-25T05:46:39.379169Z"
    },
    "papermill": {
     "duration": 0.018425,
     "end_time": "2022-07-25T05:46:39.383061",
     "exception": false,
     "start_time": "2022-07-25T05:46:39.364636",
     "status": "completed"
    },
    "tags": []
   },
   "outputs": [
    {
     "data": {
      "application/javascript": [
       "parent.postMessage({\"jupyterEvent\": \"custom.exercise_interaction\", \"data\": {\"outcomeType\": 1, \"valueTowardsCompletion\": 0.2, \"interactionType\": 1, \"questionType\": 1, \"questionId\": \"4_GetCostPaintExample\", \"learnToolsVersion\": \"0.3.4\", \"failureMessage\": \"\", \"exceptionClass\": \"\", \"trace\": \"\"}}, \"*\")"
      ],
      "text/plain": [
       "<IPython.core.display.Javascript object>"
      ]
     },
     "metadata": {},
     "output_type": "display_data"
    },
    {
     "data": {
      "text/markdown": [
       "<span style=\"color:#33cc33\">Correct</span>"
      ],
      "text/plain": [
       "Correct"
      ]
     },
     "metadata": {},
     "output_type": "display_data"
    }
   ],
   "source": [
    "# TODO: Set the project_cost variable to the cost of the project\n",
    "project_cost = get_cost(432, 144, 400, 15)\n",
    "\n",
    "# Check your answer\n",
    "q4.check()"
   ]
  },
  {
   "cell_type": "code",
   "execution_count": 9,
   "id": "2a91c549",
   "metadata": {
    "execution": {
     "iopub.execute_input": "2022-07-25T05:46:39.396468Z",
     "iopub.status.busy": "2022-07-25T05:46:39.395754Z",
     "iopub.status.idle": "2022-07-25T05:46:39.399489Z",
     "shell.execute_reply": "2022-07-25T05:46:39.398675Z"
    },
    "papermill": {
     "duration": 0.012732,
     "end_time": "2022-07-25T05:46:39.401489",
     "exception": false,
     "start_time": "2022-07-25T05:46:39.388757",
     "status": "completed"
    },
    "tags": []
   },
   "outputs": [],
   "source": [
    "# Uncomment to see a hint\n",
    "#q4.hint()\n",
    "\n",
    "# Uncomment to view the solution\n",
    "#q4.solution()"
   ]
  },
  {
   "cell_type": "markdown",
   "id": "85e52420",
   "metadata": {
    "papermill": {
     "duration": 0.005512,
     "end_time": "2022-07-25T05:46:39.413238",
     "exception": false,
     "start_time": "2022-07-25T05:46:39.407726",
     "status": "completed"
    },
    "tags": []
   },
   "source": [
    "# 🌶️ Question 5\n",
    "\n",
    "Now say you can no longer buy fractions of a gallon.  (For instance, if you need 4.3 gallons to do a project, then you have to buy 5 gallons of paint.)\n",
    "\n",
    "With this new scenario, you will create a new function `get_actual_cost` that uses the same inputs and calculates the cost of your project.\n",
    "\n",
    "One function that you'll need to use to do this is `math.ceil()`.  We demonstrate usage of this function in the code cell below.  It takes as a number as input and rounds the number up to the nearest integer.  \n",
    "\n",
    "Run the next code cell to test this function for yourself.  Feel free to change the value of `test_value` and make sure `math.ceil()` returns the number you expect."
   ]
  },
  {
   "cell_type": "code",
   "execution_count": 10,
   "id": "afbaca29",
   "metadata": {
    "execution": {
     "iopub.execute_input": "2022-07-25T05:46:39.427138Z",
     "iopub.status.busy": "2022-07-25T05:46:39.426400Z",
     "iopub.status.idle": "2022-07-25T05:46:39.433099Z",
     "shell.execute_reply": "2022-07-25T05:46:39.431621Z"
    },
    "papermill": {
     "duration": 0.01662,
     "end_time": "2022-07-25T05:46:39.435635",
     "exception": false,
     "start_time": "2022-07-25T05:46:39.419015",
     "status": "completed"
    },
    "tags": []
   },
   "outputs": [
    {
     "name": "stdout",
     "output_type": "stream",
     "text": [
      "3\n"
     ]
    }
   ],
   "source": [
    "test_value = 2.17\n",
    "\n",
    "def get_actual_cost(sqft_walls, sqft_ceiling, sqft_per_gallon, cost_per_gallon):\n",
    "    sqft = sqft_walls + sqft_ceiling\n",
    "    gallons_needed = sqft / sqft_per_gallon\n",
    "    cost = cost_per_gallon * gallons_needed\n",
    "    return cost\n",
    "\n",
    "rounded_value = math.ceil(test_value)\n",
    "print(rounded_value)"
   ]
  },
  {
   "cell_type": "markdown",
   "id": "c1b4f5cd",
   "metadata": {
    "papermill": {
     "duration": 0.005507,
     "end_time": "2022-07-25T05:46:39.447287",
     "exception": false,
     "start_time": "2022-07-25T05:46:39.441780",
     "status": "completed"
    },
    "tags": []
   },
   "source": [
    "Use the next code cell to define the function `get_actual_cost()`.  You'll need to use the `math.ceil()` function to do this.\n",
    "\n",
    "When answering this question, note that it's completely valid to define a function that makes use of another function.  For instance, we can define a function `round_up_and_divide_by_three` that makes use of the `math.ceil` function:\n",
    "```\n",
    "def round_up_and_divide_by_three(num):\n",
    "    new_value = math.ceil(num)\n",
    "    final_value = new_value / 3\n",
    "    return final_value\n",
    "```"
   ]
  },
  {
   "cell_type": "code",
   "execution_count": 11,
   "id": "4477c1f4",
   "metadata": {
    "execution": {
     "iopub.execute_input": "2022-07-25T05:46:39.461106Z",
     "iopub.status.busy": "2022-07-25T05:46:39.460383Z",
     "iopub.status.idle": "2022-07-25T05:46:39.468540Z",
     "shell.execute_reply": "2022-07-25T05:46:39.467807Z"
    },
    "papermill": {
     "duration": 0.017166,
     "end_time": "2022-07-25T05:46:39.470250",
     "exception": false,
     "start_time": "2022-07-25T05:46:39.453084",
     "status": "completed"
    },
    "tags": []
   },
   "outputs": [
    {
     "data": {
      "application/javascript": [
       "parent.postMessage({\"jupyterEvent\": \"custom.exercise_interaction\", \"data\": {\"outcomeType\": 1, \"valueTowardsCompletion\": 0.2, \"interactionType\": 1, \"questionType\": 2, \"questionId\": \"5_NoMoreFractions\", \"learnToolsVersion\": \"0.3.4\", \"failureMessage\": \"\", \"exceptionClass\": \"\", \"trace\": \"\"}}, \"*\")"
      ],
      "text/plain": [
       "<IPython.core.display.Javascript object>"
      ]
     },
     "metadata": {},
     "output_type": "display_data"
    },
    {
     "data": {
      "text/markdown": [
       "<span style=\"color:#33cc33\">Correct</span>"
      ],
      "text/plain": [
       "Correct"
      ]
     },
     "metadata": {},
     "output_type": "display_data"
    }
   ],
   "source": [
    "def get_actual_cost(sqft_walls, sqft_ceiling, sqft_per_gallon, cost_per_gallon):\n",
    "    sqft = sqft_walls + sqft_ceiling\n",
    "    gallons_needed = math.ceil(sqft / sqft_per_gallon)\n",
    "    cost = cost_per_gallon * gallons_needed\n",
    "    return cost\n",
    "\n",
    "# Check your answer\n",
    "q5.check()"
   ]
  },
  {
   "cell_type": "code",
   "execution_count": 12,
   "id": "d34e48f8",
   "metadata": {
    "execution": {
     "iopub.execute_input": "2022-07-25T05:46:39.484384Z",
     "iopub.status.busy": "2022-07-25T05:46:39.483655Z",
     "iopub.status.idle": "2022-07-25T05:46:39.487235Z",
     "shell.execute_reply": "2022-07-25T05:46:39.486543Z"
    },
    "papermill": {
     "duration": 0.012835,
     "end_time": "2022-07-25T05:46:39.489117",
     "exception": false,
     "start_time": "2022-07-25T05:46:39.476282",
     "status": "completed"
    },
    "tags": []
   },
   "outputs": [],
   "source": [
    "# Uncomment to see a hint\n",
    "#q5.hint()\n",
    "\n",
    "# Uncomment to view the solution\n",
    "#q5.solution()"
   ]
  },
  {
   "cell_type": "markdown",
   "id": "09615b73",
   "metadata": {
    "papermill": {
     "duration": 0.005711,
     "end_time": "2022-07-25T05:46:39.500805",
     "exception": false,
     "start_time": "2022-07-25T05:46:39.495094",
     "status": "completed"
    },
    "tags": []
   },
   "source": [
    "Once your function is verified as correct, run the next code cell to calculate the updated cost of your project."
   ]
  },
  {
   "cell_type": "code",
   "execution_count": 13,
   "id": "43e01da7",
   "metadata": {
    "execution": {
     "iopub.execute_input": "2022-07-25T05:46:39.515020Z",
     "iopub.status.busy": "2022-07-25T05:46:39.514317Z",
     "iopub.status.idle": "2022-07-25T05:46:39.520364Z",
     "shell.execute_reply": "2022-07-25T05:46:39.519355Z"
    },
    "papermill": {
     "duration": 0.015532,
     "end_time": "2022-07-25T05:46:39.522436",
     "exception": false,
     "start_time": "2022-07-25T05:46:39.506904",
     "status": "completed"
    },
    "tags": []
   },
   "outputs": [
    {
     "data": {
      "text/plain": [
       "30"
      ]
     },
     "execution_count": 13,
     "metadata": {},
     "output_type": "execute_result"
    }
   ],
   "source": [
    "get_actual_cost(432, 144, 400, 15) "
   ]
  },
  {
   "cell_type": "markdown",
   "id": "33ba0237",
   "metadata": {
    "papermill": {
     "duration": 0.006078,
     "end_time": "2022-07-25T05:46:39.534877",
     "exception": false,
     "start_time": "2022-07-25T05:46:39.528799",
     "status": "completed"
    },
    "tags": []
   },
   "source": [
    "Say you're working with a slightly larger room.  Run the next code cell to calculate the cost of the project."
   ]
  },
  {
   "cell_type": "code",
   "execution_count": 14,
   "id": "f323a651",
   "metadata": {
    "execution": {
     "iopub.execute_input": "2022-07-25T05:46:39.550044Z",
     "iopub.status.busy": "2022-07-25T05:46:39.549333Z",
     "iopub.status.idle": "2022-07-25T05:46:39.555014Z",
     "shell.execute_reply": "2022-07-25T05:46:39.554188Z"
    },
    "papermill": {
     "duration": 0.015364,
     "end_time": "2022-07-25T05:46:39.556880",
     "exception": false,
     "start_time": "2022-07-25T05:46:39.541516",
     "status": "completed"
    },
    "tags": []
   },
   "outputs": [
    {
     "data": {
      "text/plain": [
       "45"
      ]
     },
     "execution_count": 14,
     "metadata": {},
     "output_type": "execute_result"
    }
   ],
   "source": [
    "get_actual_cost(594, 288, 400, 15) "
   ]
  },
  {
   "cell_type": "markdown",
   "id": "8eae3149",
   "metadata": {
    "papermill": {
     "duration": 0.006054,
     "end_time": "2022-07-25T05:46:39.569695",
     "exception": false,
     "start_time": "2022-07-25T05:46:39.563641",
     "status": "completed"
    },
    "tags": []
   },
   "source": [
    "# Keep going\n",
    "\n",
    "Continue to learn about **[data types](https://www.kaggle.com/alexisbcook/data-types)**."
   ]
  },
  {
   "cell_type": "markdown",
   "id": "2f08b2ed",
   "metadata": {
    "papermill": {
     "duration": 0.006289,
     "end_time": "2022-07-25T05:46:39.582760",
     "exception": false,
     "start_time": "2022-07-25T05:46:39.576471",
     "status": "completed"
    },
    "tags": []
   },
   "source": [
    "---\n",
    "\n",
    "\n",
    "\n",
    "\n",
    "*Have questions or comments? Visit the [course discussion forum](https://www.kaggle.com/learn/intro-to-programming/discussion) to chat with other learners.*"
   ]
  }
 ],
 "metadata": {
  "kernelspec": {
   "display_name": "Python 3",
   "language": "python",
   "name": "python3"
  },
  "language_info": {
   "codemirror_mode": {
    "name": "ipython",
    "version": 3
   },
   "file_extension": ".py",
   "mimetype": "text/x-python",
   "name": "python",
   "nbconvert_exporter": "python",
   "pygments_lexer": "ipython3",
   "version": "3.7.12"
  },
  "papermill": {
   "default_parameters": {},
   "duration": 10.411363,
   "end_time": "2022-07-25T05:46:40.210323",
   "environment_variables": {},
   "exception": null,
   "input_path": "__notebook__.ipynb",
   "output_path": "__notebook__.ipynb",
   "parameters": {},
   "start_time": "2022-07-25T05:46:29.798960",
   "version": "2.3.4"
  }
 },
 "nbformat": 4,
 "nbformat_minor": 5
}
